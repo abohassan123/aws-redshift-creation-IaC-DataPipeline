{
 "cells": [
  {
   "cell_type": "code",
   "execution_count": 8,
   "metadata": {},
   "outputs": [],
   "source": [
    "# pip install configparser"
   ]
  },
  {
   "cell_type": "code",
   "execution_count": 1,
   "metadata": {},
   "outputs": [],
   "source": [
    "import boto3\n",
    "import psycopg2\n",
    "import pandas as pd \n",
    "import json\n",
    "import configparser"
   ]
  },
  {
   "cell_type": "code",
   "execution_count": 2,
   "metadata": {},
   "outputs": [],
   "source": [
    "config=configparser.ConfigParser()\n",
    "config.read_file(open('cluster.config'))"
   ]
  },
  {
   "cell_type": "code",
   "execution_count": 3,
   "metadata": {},
   "outputs": [
    {
     "data": {
      "text/plain": [
       "'****************************'"
      ]
     },
     "execution_count": 3,
     "metadata": {},
     "output_type": "execute_result"
    }
   ],
   "source": [
    "config.get('AWS','KEY')"
   ]
  },
  {
   "cell_type": "code",
   "execution_count": 31,
   "metadata": {},
   "outputs": [
    {
     "data": {
      "text/plain": [
       "('awsuser', 'Passw0rd123', 'myfirstdb')"
      ]
     },
     "execution_count": 31,
     "metadata": {},
     "output_type": "execute_result"
    }
   ],
   "source": [
    "\n",
    "KEY=                    config.get('AWS','KEY')\n",
    "SECRET=                 config.get('AWS','SECRET')\n",
    "\n",
    "\n",
    "DWH_CLUSTER_TYPE=       config.get('DWH','DWH_CLUSTER_TYPE')\n",
    "DWH_NUM_NODES=          config.get('DWH','DWH_NUM_NODES')\n",
    "DWH_NODE_TYPE=           config.get('DWH','DWH_NODE_TYPE')\n",
    "\n",
    "DWH_CLUSTER_IDENTIFIER= config.get('DWH','DWH_CLUSTER_IDENTIFIER')\n",
    "DWH_DB=                 config.get('DWH','DWH_DB')\n",
    "DWH_DB_USER=            config.get('DWH','DWH_DB_USER')\n",
    "DWH_DB_PASSWORD=        config.get('DWH','DWH_DB_PASSWORD')\n",
    "DWH_PORT=               config.get('DWH','DWH_PORT')\n",
    "\n",
    "DWH_IAM_ROLE_NAME=      config.get('DWH','DWH_IAM_ROLE_NAME')\n",
    "\n",
    "(DWH_DB_USER,DWH_DB_PASSWORD,DWH_DB)"
   ]
  },
  {
   "cell_type": "code",
   "execution_count": 32,
   "metadata": {},
   "outputs": [
    {
     "data": {
      "text/html": [
       "<div>\n",
       "<style scoped>\n",
       "    .dataframe tbody tr th:only-of-type {\n",
       "        vertical-align: middle;\n",
       "    }\n",
       "\n",
       "    .dataframe tbody tr th {\n",
       "        vertical-align: top;\n",
       "    }\n",
       "\n",
       "    .dataframe thead th {\n",
       "        text-align: right;\n",
       "    }\n",
       "</style>\n",
       "<table border=\"1\" class=\"dataframe\">\n",
       "  <thead>\n",
       "    <tr style=\"text-align: right;\">\n",
       "      <th></th>\n",
       "      <th>Param</th>\n",
       "      <th>Value</th>\n",
       "    </tr>\n",
       "  </thead>\n",
       "  <tbody>\n",
       "    <tr>\n",
       "      <th>0</th>\n",
       "      <td>DWH_CLUSTER_TYPE</td>\n",
       "      <td>single-node</td>\n",
       "    </tr>\n",
       "    <tr>\n",
       "      <th>1</th>\n",
       "      <td>DWH_NUM_NODES</td>\n",
       "      <td>1</td>\n",
       "    </tr>\n",
       "    <tr>\n",
       "      <th>2</th>\n",
       "      <td>DWH_NODE_TYPE</td>\n",
       "      <td>dc2.large</td>\n",
       "    </tr>\n",
       "    <tr>\n",
       "      <th>3</th>\n",
       "      <td>DWH_CLUSTER_IDENTIFIER</td>\n",
       "      <td>my-first-redshift-new</td>\n",
       "    </tr>\n",
       "    <tr>\n",
       "      <th>4</th>\n",
       "      <td>DWH_DB</td>\n",
       "      <td>myfirstdb</td>\n",
       "    </tr>\n",
       "    <tr>\n",
       "      <th>5</th>\n",
       "      <td>DWH_DB_USER</td>\n",
       "      <td>awsuser</td>\n",
       "    </tr>\n",
       "    <tr>\n",
       "      <th>6</th>\n",
       "      <td>DWH_DB_PASSWORD</td>\n",
       "      <td>Passw0rd123</td>\n",
       "    </tr>\n",
       "    <tr>\n",
       "      <th>7</th>\n",
       "      <td>DWH_PORT</td>\n",
       "      <td>5439</td>\n",
       "    </tr>\n",
       "    <tr>\n",
       "      <th>8</th>\n",
       "      <td>DWH_IAM_ROLE_NAME</td>\n",
       "      <td>redshift-s3-acces</td>\n",
       "    </tr>\n",
       "  </tbody>\n",
       "</table>\n",
       "</div>"
      ],
      "text/plain": [
       "                    Param                  Value\n",
       "0  DWH_CLUSTER_TYPE        single-node          \n",
       "1  DWH_NUM_NODES           1                    \n",
       "2  DWH_NODE_TYPE           dc2.large            \n",
       "3  DWH_CLUSTER_IDENTIFIER  my-first-redshift-new\n",
       "4  DWH_DB                  myfirstdb            \n",
       "5  DWH_DB_USER             awsuser              \n",
       "6  DWH_DB_PASSWORD         Passw0rd123          \n",
       "7  DWH_PORT                5439                 \n",
       "8  DWH_IAM_ROLE_NAME       redshift-s3-acces    "
      ]
     },
     "execution_count": 32,
     "metadata": {},
     "output_type": "execute_result"
    }
   ],
   "source": [
    "pd.DataFrame({\"Param\":\n",
    "                    ['DWH_CLUSTER_TYPE','DWH_NUM_NODES','DWH_NODE_TYPE','DWH_CLUSTER_IDENTIFIER','DWH_DB','DWH_DB_USER','DWH_DB_PASSWORD','DWH_PORT','DWH_IAM_ROLE_NAME'],\n",
    "\n",
    "                \"Value\":\n",
    "                [DWH_CLUSTER_TYPE,DWH_NUM_NODES,DWH_NODE_TYPE,DWH_CLUSTER_IDENTIFIER,DWH_DB,DWH_DB_USER,DWH_DB_PASSWORD,DWH_PORT,DWH_IAM_ROLE_NAME]\n",
    "                  \n",
    "})"
   ]
  },
  {
   "cell_type": "code",
   "execution_count": 33,
   "metadata": {},
   "outputs": [],
   "source": [
    "ec2=boto3.resource('ec2',\n",
    "                region_name='us-west-2',\n",
    "                aws_access_key_id=KEY,\n",
    "                aws_secret_access_key=SECRET\n",
    ")"
   ]
  },
  {
   "cell_type": "code",
   "execution_count": 34,
   "metadata": {},
   "outputs": [],
   "source": [
    "\n",
    "\n",
    "s3=boto3.resource('s3',\n",
    "                region_name='us-west-2',\n",
    "                aws_access_key_id=KEY,\n",
    "                aws_secret_access_key=SECRET\n",
    ")\n",
    "\n",
    "iam=boto3.client('iam',\n",
    "                region_name='us-west-2',\n",
    "                aws_access_key_id=KEY,\n",
    "                aws_secret_access_key=SECRET\n",
    ")\n",
    "\n",
    "redshift=boto3.client('redshift',\n",
    "                region_name='us-west-2',\n",
    "                aws_access_key_id=KEY,\n",
    "                aws_secret_access_key=SECRET\n",
    ")"
   ]
  },
  {
   "cell_type": "code",
   "execution_count": 35,
   "metadata": {},
   "outputs": [
    {
     "data": {
      "text/plain": [
       "['allevents_pipe.txt',\n",
       " 'allusers_pipe.txt',\n",
       " 'category_pipe.txt',\n",
       " 'date2008_pipe.txt',\n",
       " 'listings_pipe.txt',\n",
       " 'sales_tab.txt',\n",
       " 'venue_pipe.txt']"
      ]
     },
     "execution_count": 35,
     "metadata": {},
     "output_type": "execute_result"
    }
   ],
   "source": [
    "\n",
    "bucket=s3.Bucket('mabohassan-test')\n",
    "log_data_files=[filename.key for filename in bucket.objects.filter(Prefix='')]\n",
    "log_data_files"
   ]
  },
  {
   "cell_type": "code",
   "execution_count": 36,
   "metadata": {},
   "outputs": [
    {
     "data": {
      "text/plain": [
       "'arn:aws:iam::777381563271:role/redshift-s3-acces'"
      ]
     },
     "execution_count": 36,
     "metadata": {},
     "output_type": "execute_result"
    }
   ],
   "source": [
    "roleArn=iam.get_role(RoleName=DWH_IAM_ROLE_NAME)['Role']['Arn']\n",
    "roleArn"
   ]
  },
  {
   "cell_type": "code",
   "execution_count": 37,
   "metadata": {},
   "outputs": [],
   "source": [
    "\n",
    "try:\n",
    "    response=redshift.create_cluster(\n",
    "    ClusterType=DWH_CLUSTER_TYPE,\n",
    "    NodeType=DWH_NODE_TYPE,\n",
    "    \n",
    "    #identifiers & credentials\n",
    "    DBName=DWH_DB,\n",
    "    ClusterIdentifier=DWH_CLUSTER_IDENTIFIER,\n",
    "    MasterUsername=DWH_DB_USER,\n",
    "    MasterUserPassword=DWH_DB_PASSWORD,\n",
    "\n",
    "    #roles (for s3 access)\n",
    "    IamRoles=[roleArn]\n",
    "\n",
    "\n",
    "    )\n",
    "except Exception as e:\n",
    "    print(e)"
   ]
  },
  {
   "cell_type": "code",
   "execution_count": 4,
   "metadata": {},
   "outputs": [],
   "source": [
    "# redshift.describe_clusters(ClusterIdentifier=DWH_CLUSTER_IDENTIFIER)['Clusters'][0]"
   ]
  },
  {
   "cell_type": "code",
   "execution_count": 39,
   "metadata": {},
   "outputs": [
    {
     "name": "stderr",
     "output_type": "stream",
     "text": [
      "c:\\Users\\abohassan\\anaconda3\\lib\\site-packages\\ipykernel_launcher.py:2: FutureWarning: Passing a negative integer is deprecated in version 1.0 and will not be supported in future version. Instead, use None to not limit the column width.\n",
      "  \n"
     ]
    },
    {
     "data": {
      "text/html": [
       "<div>\n",
       "<style scoped>\n",
       "    .dataframe tbody tr th:only-of-type {\n",
       "        vertical-align: middle;\n",
       "    }\n",
       "\n",
       "    .dataframe tbody tr th {\n",
       "        vertical-align: top;\n",
       "    }\n",
       "\n",
       "    .dataframe thead th {\n",
       "        text-align: right;\n",
       "    }\n",
       "</style>\n",
       "<table border=\"1\" class=\"dataframe\">\n",
       "  <thead>\n",
       "    <tr style=\"text-align: right;\">\n",
       "      <th></th>\n",
       "      <th>Key</th>\n",
       "      <th>Value</th>\n",
       "    </tr>\n",
       "  </thead>\n",
       "  <tbody>\n",
       "    <tr>\n",
       "      <th>0</th>\n",
       "      <td>ClusterIdentifier</td>\n",
       "      <td>my-first-redshift-new</td>\n",
       "    </tr>\n",
       "    <tr>\n",
       "      <th>1</th>\n",
       "      <td>NodeType</td>\n",
       "      <td>dc2.large</td>\n",
       "    </tr>\n",
       "    <tr>\n",
       "      <th>2</th>\n",
       "      <td>ClusterStatus</td>\n",
       "      <td>available</td>\n",
       "    </tr>\n",
       "    <tr>\n",
       "      <th>3</th>\n",
       "      <td>MasterUsername</td>\n",
       "      <td>awsuser</td>\n",
       "    </tr>\n",
       "    <tr>\n",
       "      <th>4</th>\n",
       "      <td>DBName</td>\n",
       "      <td>myfirstdb</td>\n",
       "    </tr>\n",
       "    <tr>\n",
       "      <th>5</th>\n",
       "      <td>Endpoint</td>\n",
       "      <td>{'Address': 'my-first-redshift-new.ctfdnxkjcgk8.us-west-2.redshift.amazonaws.com', 'Port': 5439}</td>\n",
       "    </tr>\n",
       "    <tr>\n",
       "      <th>6</th>\n",
       "      <td>VpcId</td>\n",
       "      <td>vpc-032e0f5e07d1abf94</td>\n",
       "    </tr>\n",
       "    <tr>\n",
       "      <th>7</th>\n",
       "      <td>NumberOfNodes</td>\n",
       "      <td>1</td>\n",
       "    </tr>\n",
       "  </tbody>\n",
       "</table>\n",
       "</div>"
      ],
      "text/plain": [
       "                 Key  \\\n",
       "0  ClusterIdentifier   \n",
       "1  NodeType            \n",
       "2  ClusterStatus       \n",
       "3  MasterUsername      \n",
       "4  DBName              \n",
       "5  Endpoint            \n",
       "6  VpcId               \n",
       "7  NumberOfNodes       \n",
       "\n",
       "                                                                                              Value  \n",
       "0  my-first-redshift-new                                                                             \n",
       "1  dc2.large                                                                                         \n",
       "2  available                                                                                         \n",
       "3  awsuser                                                                                           \n",
       "4  myfirstdb                                                                                         \n",
       "5  {'Address': 'my-first-redshift-new.ctfdnxkjcgk8.us-west-2.redshift.amazonaws.com', 'Port': 5439}  \n",
       "6  vpc-032e0f5e07d1abf94                                                                             \n",
       "7  1                                                                                                 "
      ]
     },
     "execution_count": 39,
     "metadata": {},
     "output_type": "execute_result"
    }
   ],
   "source": [
    "def prettyRedshiftProps(props):\n",
    "    pd.set_option('display.max_colwidth', -1)\n",
    "    keysToShow = [\"ClusterIdentifier\", \"NodeType\", \"ClusterStatus\", \"MasterUsername\", \"DBName\", \"Endpoint\", \"NumberOfNodes\", 'VpcId']\n",
    "    x = [(k, v) for k,v in props.items() if k in keysToShow]\n",
    "    return pd.DataFrame(data=x, columns=[\"Key\", \"Value\"])\n",
    "myClusterProps = redshift.describe_clusters(ClusterIdentifier=DWH_CLUSTER_IDENTIFIER)['Clusters'][0]\n",
    "prettyRedshiftProps(myClusterProps)"
   ]
  },
  {
   "cell_type": "code",
   "execution_count": 40,
   "metadata": {},
   "outputs": [
    {
     "data": {
      "text/plain": [
       "dict_keys(['ClusterIdentifier', 'NodeType', 'ClusterStatus', 'ClusterAvailabilityStatus', 'MasterUsername', 'DBName', 'Endpoint', 'ClusterCreateTime', 'AutomatedSnapshotRetentionPeriod', 'ManualSnapshotRetentionPeriod', 'ClusterSecurityGroups', 'VpcSecurityGroups', 'ClusterParameterGroups', 'ClusterSubnetGroupName', 'VpcId', 'AvailabilityZone', 'PreferredMaintenanceWindow', 'PendingModifiedValues', 'ClusterVersion', 'AllowVersionUpgrade', 'NumberOfNodes', 'PubliclyAccessible', 'Encrypted', 'ClusterPublicKey', 'ClusterNodes', 'ClusterRevisionNumber', 'Tags', 'EnhancedVpcRouting', 'IamRoles', 'MaintenanceTrackName', 'DeferredMaintenanceWindows', 'NextMaintenanceWindowStartTime', 'AvailabilityZoneRelocationStatus', 'ClusterNamespaceArn', 'AquaConfiguration'])"
      ]
     },
     "execution_count": 40,
     "metadata": {},
     "output_type": "execute_result"
    }
   ],
   "source": [
    "myClusterProps.keys()"
   ]
  },
  {
   "cell_type": "code",
   "execution_count": null,
   "metadata": {},
   "outputs": [],
   "source": []
  },
  {
   "cell_type": "code",
   "execution_count": 41,
   "metadata": {},
   "outputs": [],
   "source": [
    "DWH_ENDPOINT=myClusterProps['Endpoint']['Address']\n",
    "DWH_ROLE_ARN=myClusterProps['IamRoles'][0]['IamRoleArn']\n",
    "DB_NAME=myClusterProps['DBName']\n",
    "DB_USER=myClusterProps['MasterUsername']"
   ]
  },
  {
   "cell_type": "code",
   "execution_count": 42,
   "metadata": {},
   "outputs": [
    {
     "data": {
      "text/plain": [
       "'my-first-redshift-new.ctfdnxkjcgk8.us-west-2.redshift.amazonaws.com'"
      ]
     },
     "execution_count": 42,
     "metadata": {},
     "output_type": "execute_result"
    }
   ],
   "source": [
    "DWH_ENDPOINT"
   ]
  },
  {
   "cell_type": "code",
   "execution_count": 43,
   "metadata": {},
   "outputs": [
    {
     "data": {
      "text/plain": [
       "'awsuser'"
      ]
     },
     "execution_count": 43,
     "metadata": {},
     "output_type": "execute_result"
    }
   ],
   "source": [
    "DB_USER"
   ]
  },
  {
   "cell_type": "code",
   "execution_count": 44,
   "metadata": {},
   "outputs": [
    {
     "name": "stdout",
     "output_type": "stream",
     "text": [
      "ec2.SecurityGroup(id='sg-0fb06e44e5383522c')\n",
      "An error occurred (InvalidPermission.Duplicate) when calling the AuthorizeSecurityGroupIngress operation: the specified rule \"peer: 0.0.0.0/0, TCP, from port: 5439, to port: 5439, ALLOW\" already exists\n"
     ]
    }
   ],
   "source": [
    "#Opening a TCP port to access the cluster endpoint\n",
    "try:\n",
    "    vpc = ec2.Vpc(id=myClusterProps['VpcId'])\n",
    "    defaultSg = list(vpc.security_groups.all())[0]\n",
    "    print(defaultSg)\n",
    "    \n",
    "    defaultSg.authorize_ingress(\n",
    "        GroupName= defaultSg.group_name,\n",
    "        CidrIp='0.0.0.0/0',\n",
    "        IpProtocol='TCP',\n",
    "        FromPort=int(DWH_PORT),\n",
    "        ToPort=int(DWH_PORT)\n",
    "    )\n",
    "except Exception as e:\n",
    "    print(e)"
   ]
  },
  {
   "cell_type": "code",
   "execution_count": 45,
   "metadata": {},
   "outputs": [
    {
     "data": {
      "text/plain": [
       "'5439'"
      ]
     },
     "execution_count": 45,
     "metadata": {},
     "output_type": "execute_result"
    }
   ],
   "source": [
    "DWH_PORT"
   ]
  },
  {
   "cell_type": "code",
   "execution_count": 46,
   "metadata": {},
   "outputs": [],
   "source": [
    "try:\n",
    "    conn=psycopg2.connect(host=DWH_ENDPOINT,dbname=DWH_DB,user=DWH_DB_USER, password=DWH_DB_PASSWORD,  port=DWH_PORT,)\n",
    "except psycopg2.Error as e:\n",
    "    print('could not connect')\n",
    "    print(e)\n",
    "\n",
    "conn.set_session(autocommit=True)"
   ]
  },
  {
   "cell_type": "code",
   "execution_count": 47,
   "metadata": {},
   "outputs": [],
   "source": [
    "try: \n",
    "    cur = conn.cursor()\n",
    "except psycopg2.Error as e: \n",
    "    print(\"Error: Could not get curser to the Database\")\n",
    "    print(e)"
   ]
  },
  {
   "cell_type": "code",
   "execution_count": 49,
   "metadata": {},
   "outputs": [],
   "source": [
    "try:\n",
    "    cur.execute(\"\"\"create table users(\n",
    "        userid integer not null distkey sortkey,\n",
    "        username char(8),\n",
    "        firstname varchar(30),\n",
    "        lastname varchar(30),\n",
    "        city varchar(30),\n",
    "        state char(2),\n",
    "        email varchar(100),\n",
    "        phone char(14),\n",
    "        likesports boolean,\n",
    "        liketheatre boolean,\n",
    "        likeconcerts boolean,\n",
    "        likejazz boolean,\n",
    "        likeclassical boolean,\n",
    "        likeopera boolean,\n",
    "        likerock boolean,\n",
    "        likevegas boolean,\n",
    "        likebroadway boolean,\n",
    "        likemusicals boolean);\"\"\")\n",
    "except psycopg2.Error as e:\n",
    "    print('Error: issue creating table')\n",
    "    print(e)"
   ]
  },
  {
   "cell_type": "code",
   "execution_count": 50,
   "metadata": {},
   "outputs": [],
   "source": [
    "try:\n",
    "    cur.execute(\"\"\"create table venue(\n",
    "        venueid smallint not null distkey sortkey,\n",
    "        venuename varchar(100),\n",
    "        venuecity varchar(30),\n",
    "        venuestate char(2),\n",
    "        venueseats integer);\"\"\")\n",
    "except psycopg2.Error as e:\n",
    "        print('Error: issue creating table')\n",
    "        print(e)"
   ]
  },
  {
   "cell_type": "code",
   "execution_count": 53,
   "metadata": {},
   "outputs": [],
   "source": [
    "try:\n",
    "    cur.execute(\"\"\"\n",
    "        create table category(\n",
    "            catid smallint not null distkey sortkey,\n",
    "            catgroup varchar(10),\n",
    "            catname varchar(10),\n",
    "            catdesc varchar(50));\n",
    "\n",
    "\n",
    "        create table date(\n",
    "            dateid smallint not null distkey sortkey,\n",
    "            caldate date not null,\n",
    "            day character(3) not null,\n",
    "            week smallint not null,\n",
    "            month character(5) not null,\n",
    "            qtr character(5) not null,\n",
    "            year smallint not null,\n",
    "            holiday boolean default('N'));\n",
    "\n",
    "        create table event(\n",
    "            eventid integer not null distkey,\n",
    "            venueid smallint not null,\n",
    "            catid smallint not null,\n",
    "            dateid smallint not null sortkey,\n",
    "            eventname varchar(200),\n",
    "            starttime timestamp);\n",
    "\n",
    "        create table listing(\n",
    "\n",
    "        listid integer not null distkey,\n",
    "        sellerid integer not null,\n",
    "        eventid integer not null,\n",
    "        dateid smallint not null sortkey,\n",
    "        numtickets smallint not null,\n",
    "        priceperticket decimal(8,2),\n",
    "        totalprice decimal(8,2),\n",
    "        listtime timestamp);\n",
    "\n",
    "\n",
    "\"\"\")\n",
    "\n",
    "except psycopg2.Error as e:\n",
    "        print('Error: issue creating table')\n",
    "        print(e) "
   ]
  },
  {
   "cell_type": "code",
   "execution_count": 56,
   "metadata": {},
   "outputs": [],
   "source": [
    "try:\n",
    "    cur.execute(\"\"\"\n",
    "    copy users from 's3://mabohassan-test/allusers_pipe.txt'\n",
    "    credentials 'aws_iam_role=arn:aws:iam::777381563271:role/redshift-s3-acces'\n",
    "    delimiter '|'\n",
    "    region 'us-west-2'\n",
    "    \"\"\")\n",
    "\n",
    "\n",
    "except psycopg2.Error as e:\n",
    "        print('Error: issue creating table')\n",
    "        print(e) "
   ]
  },
  {
   "cell_type": "code",
   "execution_count": 60,
   "metadata": {},
   "outputs": [],
   "source": [
    "try:\n",
    "    cur.execute(\"\"\"\n",
    "        select * from users;\n",
    "    \"\"\")\n",
    "\n",
    "\n",
    "except psycopg2.Error as e:\n",
    "        print('Error: issue creating table')\n",
    "        print(e) "
   ]
  },
  {
   "cell_type": "code",
   "execution_count": 61,
   "metadata": {},
   "outputs": [
    {
     "name": "stdout",
     "output_type": "stream",
     "text": [
      "(2, 'PGL08LJI', 'Vladimir', 'Humphrey', 'Murfreesboro', 'SK', 'Suspendisse.tristique@nonnisiAenean.edu', '(783) 492-1886', None, None, None, True, True, None, None, True, False, True)\n"
     ]
    }
   ],
   "source": [
    "row=cur.fetchone()\n",
    "print(row)\n"
   ]
  },
  {
   "cell_type": "code",
   "execution_count": 59,
   "metadata": {},
   "outputs": [],
   "source": [
    "try:\n",
    "    conn.close()\n",
    "except psycopg2.Error as e:\n",
    "    print(e)"
   ]
  },
  {
   "cell_type": "code",
   "execution_count": null,
   "metadata": {},
   "outputs": [],
   "source": [
    "#### Delete Resources !!\n",
    "\n",
    "redshift.delete_cluster( ClusterIdentifier=DWH_CLUSTER_IDENTIFIER,  SkipFinalClusterSnapshot=True)"
   ]
  }
 ],
 "metadata": {
  "kernelspec": {
   "display_name": "Python 3.7.6 ('base')",
   "language": "python",
   "name": "python3"
  },
  "language_info": {
   "codemirror_mode": {
    "name": "ipython",
    "version": 3
   },
   "file_extension": ".py",
   "mimetype": "text/x-python",
   "name": "python",
   "nbconvert_exporter": "python",
   "pygments_lexer": "ipython3",
   "version": "3.7.6"
  },
  "orig_nbformat": 4,
  "vscode": {
   "interpreter": {
    "hash": "98637b40af13a3b0febed2a68b14729a431d5fc1fe8e9140a474894a246ad01c"
   }
  }
 },
 "nbformat": 4,
 "nbformat_minor": 2
}
